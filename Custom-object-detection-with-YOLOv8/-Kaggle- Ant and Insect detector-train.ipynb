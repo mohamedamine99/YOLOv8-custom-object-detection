{
  "metadata": {
    "colab": {
      "provenance": [],
      "toc_visible": true
    },
    "kernelspec": {
      "name": "python3",
      "display_name": "Python 3",
      "language": "python"
    },
    "language_info": {
      "name": "python",
      "version": "3.7.12",
      "mimetype": "text/x-python",
      "codemirror_mode": {
        "name": "ipython",
        "version": 3
      },
      "pygments_lexer": "ipython3",
      "nbconvert_exporter": "python",
      "file_extension": ".py"
    }
  },
  "nbformat_minor": 0,
  "nbformat": 4,
  "cells": [
    {
      "cell_type": "markdown",
      "source": [
        "<div align=\"center\">\n",
        "\n",
        "# YOLOv8 Custom Object Detection : Model Training on Custom Data\n",
        "\n",
        "</div>\n",
        "\n",
        "Welcome to this Kaggle notebook for YOLOv8 Custom Object Detection! In this notebook, we will cover the process of training a custom object detection model on a dataset of ants and insects. Using YOLOv8, we will explore the steps involved in custom object detection. With the tools provided in this Colab, you'll be able to follow along and gain valuable insights into the world of object detection. Let's get started!"
      ],
      "metadata": {
        "id": "D7ZHY87JWdmr"
      }
    },
    {
      "cell_type": "markdown",
      "source": [
        "## Importing libraries, modules and files"
      ],
      "metadata": {
        "id": "suNEhwyMPFle"
      }
    },
    {
      "cell_type": "markdown",
      "source": [
        "### Downloading annotations and metadata for training, validation and (optional) testing."
      ],
      "metadata": {
        "id": "9d8RRUoDPZ2G"
      }
    },
    {
      "cell_type": "code",
      "source": [
        "# training annotations and metadata\n",
        "!wget https://storage.googleapis.com/openimages/v6/oidv6-train-annotations-bbox.csv"
      ],
      "metadata": {
        "id": "lfpRYJb_Za2j",
        "execution": {
          "iopub.status.busy": "2023-04-15T13:19:18.284856Z",
          "iopub.execute_input": "2023-04-15T13:19:18.285314Z",
          "iopub.status.idle": "2023-04-15T13:19:30.911370Z",
          "shell.execute_reply.started": "2023-04-15T13:19:18.285284Z",
          "shell.execute_reply": "2023-04-15T13:19:30.910146Z"
        },
        "trusted": true,
        "outputId": "33fe27e1-864e-42a6-ac2a-b76ea2be385b"
      },
      "execution_count": null,
      "outputs": [
        {
          "name": "stdout",
          "text": "--2023-04-15 13:19:19--  https://storage.googleapis.com/openimages/v6/oidv6-train-annotations-bbox.csv\nResolving storage.googleapis.com (storage.googleapis.com)... 64.233.191.128, 173.194.74.128, 173.194.192.128, ...\nConnecting to storage.googleapis.com (storage.googleapis.com)|64.233.191.128|:443... connected.\nHTTP request sent, awaiting response... 200 OK\nLength: 2258447590 (2.1G) [text/csv]\nSaving to: ‘oidv6-train-annotations-bbox.csv’\n\noidv6-train-annotat 100%[===================>]   2.10G   176MB/s    in 12s     \n\n2023-04-15 13:19:30 (187 MB/s) - ‘oidv6-train-annotations-bbox.csv’ saved [2258447590/2258447590]\n\n",
          "output_type": "stream"
        }
      ]
    },
    {
      "cell_type": "code",
      "source": [
        "# validation annotations and metadata\n",
        "!wget https://storage.googleapis.com/openimages/v5/validation-annotations-bbox.csv"
      ],
      "metadata": {
        "id": "W9L3sOH_bqNm",
        "execution": {
          "iopub.status.busy": "2023-04-15T13:19:30.913226Z",
          "iopub.execute_input": "2023-04-15T13:19:30.914690Z",
          "iopub.status.idle": "2023-04-15T13:19:32.127575Z",
          "shell.execute_reply.started": "2023-04-15T13:19:30.914646Z",
          "shell.execute_reply": "2023-04-15T13:19:32.126243Z"
        },
        "trusted": true,
        "outputId": "e6eb5642-bb39-40d9-de74-8b3ce4c31478"
      },
      "execution_count": null,
      "outputs": [
        {
          "name": "stdout",
          "text": "--2023-04-15 13:19:31--  https://storage.googleapis.com/openimages/v5/validation-annotations-bbox.csv\nResolving storage.googleapis.com (storage.googleapis.com)... 64.233.191.128, 173.194.74.128, 173.194.192.128, ...\nConnecting to storage.googleapis.com (storage.googleapis.com)|64.233.191.128|:443... connected.\nHTTP request sent, awaiting response... 200 OK\nLength: 25105048 (24M) [text/csv]\nSaving to: ‘validation-annotations-bbox.csv’\n\nvalidation-annotati 100%[===================>]  23.94M  --.-KB/s    in 0.1s    \n\n2023-04-15 13:19:32 (173 MB/s) - ‘validation-annotations-bbox.csv’ saved [25105048/25105048]\n\n",
          "output_type": "stream"
        }
      ]
    },
    {
      "cell_type": "code",
      "source": [
        "# testing annotations and metadata\n",
        "!wget https://storage.googleapis.com/openimages/v5/test-annotations-bbox.csv"
      ],
      "metadata": {
        "id": "Kz2L_G7vbr1U",
        "execution": {
          "iopub.status.busy": "2023-04-15T13:19:32.129771Z",
          "iopub.execute_input": "2023-04-15T13:19:32.130193Z",
          "iopub.status.idle": "2023-04-15T13:19:39.688593Z",
          "shell.execute_reply.started": "2023-04-15T13:19:32.130151Z",
          "shell.execute_reply": "2023-04-15T13:19:39.687250Z"
        },
        "trusted": true,
        "outputId": "39b5e986-6045-4260-98dd-9c3bbce40d16"
      },
      "execution_count": null,
      "outputs": [
        {
          "name": "stdout",
          "text": "--2023-04-15 13:19:39--  https://storage.googleapis.com/openimages/v5/test-annotations-bbox.csv\nResolving storage.googleapis.com (storage.googleapis.com)... 64.233.191.128, 173.194.74.128, 173.194.192.128, ...\nConnecting to storage.googleapis.com (storage.googleapis.com)|64.233.191.128|:443... connected.\nHTTP request sent, awaiting response... 200 OK\nLength: 77484237 (74M) [text/csv]\nSaving to: ‘test-annotations-bbox.csv’\n\ntest-annotations-bb 100%[===================>]  73.89M   174MB/s    in 0.4s    \n\n2023-04-15 13:19:39 (174 MB/s) - ‘test-annotations-bbox.csv’ saved [77484237/77484237]\n\n",
          "output_type": "stream"
        }
      ]
    },
    {
      "cell_type": "markdown",
      "source": [
        "### Importing the github repository of the project "
      ],
      "metadata": {
        "id": "fMGGcvfDQreC"
      }
    },
    {
      "cell_type": "code",
      "source": [
        "!git clone https://github.com/mohamedamine99/YOLOv8-custom-object-detection"
      ],
      "metadata": {
        "id": "1u8w3YWBYU1e",
        "execution": {
          "iopub.status.busy": "2023-04-15T13:19:39.690850Z",
          "iopub.execute_input": "2023-04-15T13:19:39.691255Z",
          "iopub.status.idle": "2023-04-15T13:19:44.366162Z",
          "shell.execute_reply.started": "2023-04-15T13:19:39.691213Z",
          "shell.execute_reply": "2023-04-15T13:19:44.364882Z"
        },
        "trusted": true,
        "outputId": "90dd0bd0-3902-4c8d-c5fd-3ac1b7ac3627"
      },
      "execution_count": null,
      "outputs": [
        {
          "name": "stdout",
          "text": "Cloning into 'YOLOv8-custom-object-detection'...\nremote: Enumerating objects: 65, done.\u001b[K\nremote: Counting objects: 100% (58/58), done.\u001b[K\nremote: Compressing objects: 100% (44/44), done.\u001b[K\nremote: Total 65 (delta 27), reused 44 (delta 13), pack-reused 7\u001b[K\nReceiving objects: 100% (65/65), 80.81 MiB | 35.24 MiB/s, done.\nResolving deltas: 100% (29/29), done.\n",
          "output_type": "stream"
        }
      ]
    },
    {
      "cell_type": "markdown",
      "source": [
        "### Downloading the `downloader.py` file used later to download the dataset from OpenImages"
      ],
      "metadata": {
        "id": "lQwt-_CtQ0f_"
      }
    },
    {
      "cell_type": "code",
      "source": [
        "!wget https://raw.githubusercontent.com/openimages/dataset/master/downloader.py"
      ],
      "metadata": {
        "id": "_8cgZXaeqS3e",
        "execution": {
          "iopub.status.busy": "2023-04-15T13:20:17.689744Z",
          "iopub.execute_input": "2023-04-15T13:20:17.690812Z",
          "iopub.status.idle": "2023-04-15T13:20:18.975767Z",
          "shell.execute_reply.started": "2023-04-15T13:20:17.690773Z",
          "shell.execute_reply": "2023-04-15T13:20:18.974482Z"
        },
        "trusted": true,
        "outputId": "e7d41d5d-4590-485b-94d0-ce3a4902abfe"
      },
      "execution_count": null,
      "outputs": [
        {
          "name": "stdout",
          "text": "--2023-04-15 13:20:18--  https://raw.githubusercontent.com/openimages/dataset/master/downloader.py\nResolving raw.githubusercontent.com (raw.githubusercontent.com)... 185.199.108.133, 185.199.111.133, 185.199.110.133, ...\nConnecting to raw.githubusercontent.com (raw.githubusercontent.com)|185.199.108.133|:443... connected.\nHTTP request sent, awaiting response... 200 OK\nLength: 4244 (4.1K) [text/plain]\nSaving to: ‘downloader.py’\n\ndownloader.py       100%[===================>]   4.14K  --.-KB/s    in 0s      \n\n2023-04-15 13:20:18 (15.6 MB/s) - ‘downloader.py’ saved [4244/4244]\n\n",
          "output_type": "stream"
        }
      ]
    },
    {
      "cell_type": "markdown",
      "source": [
        "### Importing and installing required libraries and modules"
      ],
      "metadata": {
        "id": "16ZQQWJ5RU38"
      }
    },
    {
      "cell_type": "code",
      "source": [
        "# required by the downloader.py file\n",
        "!pip install boto3"
      ],
      "metadata": {
        "id": "A18gaNfgq30E",
        "execution": {
          "iopub.status.busy": "2023-04-15T13:20:18.977686Z",
          "iopub.execute_input": "2023-04-15T13:20:18.978429Z",
          "iopub.status.idle": "2023-04-15T13:20:33.733004Z",
          "shell.execute_reply.started": "2023-04-15T13:20:18.978366Z",
          "shell.execute_reply": "2023-04-15T13:20:33.731750Z"
        },
        "trusted": true
      },
      "execution_count": null,
      "outputs": []
    },
    {
      "cell_type": "code",
      "source": [
        "import os\n",
        "import shutil\n",
        "\n",
        "# install and import pyyaml used to create custom config files for training\n",
        "%pip install pyyaml\n",
        "import yaml\n"
      ],
      "metadata": {
        "id": "n537TujpYaXV",
        "execution": {
          "iopub.status.busy": "2023-04-15T13:19:05.687331Z",
          "iopub.execute_input": "2023-04-15T13:19:05.687703Z",
          "iopub.status.idle": "2023-04-15T13:19:18.217834Z",
          "shell.execute_reply.started": "2023-04-15T13:19:05.687669Z",
          "shell.execute_reply": "2023-04-15T13:19:18.216442Z"
        },
        "trusted": true,
        "outputId": "9b9098e1-1074-453e-806e-76017ac1dd35"
      },
      "execution_count": null,
      "outputs": [
        {
          "name": "stdout",
          "text": "Requirement already satisfied: pyyaml in /opt/conda/lib/python3.7/site-packages (6.0)\n\u001b[33mWARNING: Running pip as the 'root' user can result in broken permissions and conflicting behaviour with the system package manager. It is recommended to use a virtual environment instead: https://pip.pypa.io/warnings/venv\u001b[0m\u001b[33m\n\u001b[0mNote: you may need to restart the kernel to use updated packages.\n",
          "output_type": "stream"
        }
      ]
    },
    {
      "cell_type": "markdown",
      "source": [
        "## Data preprocessing"
      ],
      "metadata": {
        "id": "-0vIemq3R-9E"
      }
    },
    {
      "cell_type": "code",
      "source": [
        "# This fuction is used to create a custom YAML file which is used later to configure training data\n",
        "def create_yolo_yaml_config(yaml_filepath, dataset_path, dataset_labels):\n",
        "\n",
        "    data = {'path':dataset_path,\n",
        "            'train': os.path.join('images', 'train'),\n",
        "            'val': os.path.join('images', 'validation'),\n",
        "            'names':{i:label for i, label in enumerate(dataset_labels)}\n",
        "            }\n",
        "\n",
        "    # Save the changes to the file\n",
        "    with open(yaml_filepath, 'w') as fp:\n",
        "    # set sort_keys = False to preserve the order of keys\n",
        "        yaml.dump(data, fp, sort_keys=False)\n",
        "\n"
      ],
      "metadata": {
        "id": "2gsRTntkgRW3",
        "execution": {
          "iopub.status.busy": "2023-04-15T13:19:18.247623Z",
          "iopub.execute_input": "2023-04-15T13:19:18.248070Z",
          "iopub.status.idle": "2023-04-15T13:19:18.254744Z",
          "shell.execute_reply.started": "2023-04-15T13:19:18.248032Z",
          "shell.execute_reply": "2023-04-15T13:19:18.253576Z"
        },
        "trusted": true
      },
      "execution_count": null,
      "outputs": []
    },
    {
      "cell_type": "code",
      "source": [
        "# This function returns a dict with the names and IDs of selected object we want to train our model to detect\n",
        "def get_class_id(classes_file, class_names):\n",
        "    id_name_dict = {}\n",
        "    with open(classes_file, 'r') as f:\n",
        "        for line in f:\n",
        "            id, label = line.split(',')\n",
        "            label = label.strip()\n",
        "            #print(label)\n",
        "            if label in class_names:\n",
        "                print(label)\n",
        "                id_name_dict[label] = id\n",
        "        \n",
        "    return id_name_dict"
      ],
      "metadata": {
        "id": "K0hykIT2hRNv",
        "execution": {
          "iopub.status.busy": "2023-04-15T13:19:18.257689Z",
          "iopub.execute_input": "2023-04-15T13:19:18.258369Z",
          "iopub.status.idle": "2023-04-15T13:19:18.267145Z",
          "shell.execute_reply.started": "2023-04-15T13:19:18.258333Z",
          "shell.execute_reply": "2023-04-15T13:19:18.265995Z"
        },
        "trusted": true
      },
      "execution_count": null,
      "outputs": []
    },
    {
      "cell_type": "code",
      "source": [
        "# Target objects to be detected\n",
        "names = ['Ant', 'Insect']\n",
        "\n",
        "# path to the dataset directory (recommended to use absolute path)\n",
        "dataset_path = os.path.abspath(os.path.join('.', 'data')) \n",
        "\n",
        "# path to the YAML file that contains training configuration\n",
        "yaml_filepath = os.path.join('.', 'config.yaml')\n",
        "\n",
        "# Create a custom YAML config file based on the above selected target objects and dataset path\n",
        "create_yolo_yaml_config(yaml_filepath, dataset_path, names)"
      ],
      "metadata": {
        "execution": {
          "iopub.status.busy": "2023-04-15T13:19:44.371282Z",
          "iopub.execute_input": "2023-04-15T13:19:44.371711Z",
          "iopub.status.idle": "2023-04-15T13:19:44.381041Z",
          "shell.execute_reply.started": "2023-04-15T13:19:44.371675Z",
          "shell.execute_reply": "2023-04-15T13:19:44.379816Z"
        },
        "trusted": true,
        "id": "JfTHp0VQG1_k"
      },
      "execution_count": null,
      "outputs": []
    },
    {
      "cell_type": "code",
      "source": [
        "# get the class IDs of the target objects, all detectable objects and their IDs \n",
        "# are pre-determined by OpenImage in class-descriptions-boxable.csv file\n",
        "class_ids = get_class_id('/kaggle/working/YOLOv8-custom-object-detection/class-descriptions-boxable.csv'\n",
        "                         ,names)\n",
        "print(class_ids)\n",
        "print(names)"
      ],
      "metadata": {
        "execution": {
          "iopub.status.busy": "2023-04-15T13:19:44.382852Z",
          "iopub.execute_input": "2023-04-15T13:19:44.383472Z",
          "iopub.status.idle": "2023-04-15T13:19:44.391740Z",
          "shell.execute_reply.started": "2023-04-15T13:19:44.383405Z",
          "shell.execute_reply": "2023-04-15T13:19:44.390610Z"
        },
        "trusted": true,
        "id": "twhs19WGG1_l",
        "outputId": "db31153c-570f-429c-881c-6f9d31a1325b"
      },
      "execution_count": null,
      "outputs": [
        {
          "name": "stdout",
          "text": "Insect\nAnt\n{'Insect': '/m/03vt0', 'Ant': '/m/0_k2'}\n['Ant', 'Insect']\n",
          "output_type": "stream"
        }
      ]
    },
    {
      "cell_type": "code",
      "source": [
        "# Create a list of annotated images to be downloaded by the downloader script download.py\n",
        "# the list is a text file in the following format : $SPLIT/$IMAGE_ID\n",
        "# example : \n",
        "# train/f9e0434389a1d4dd\n",
        "# train/1a007563ebc18664\n",
        "\n",
        "\n",
        "train_bboxes_filename = os.path.join('.', 'oidv6-train-annotations-bbox.csv')\n",
        "validation_bboxes_filename = os.path.join('.', 'validation-annotations-bbox.csv')\n",
        "test_bboxes_filename = os.path.join('.', 'test-annotations-bbox.csv')\n",
        "\n",
        "image_list_file_path = os.path.join('.', 'image_list_file.txt')\n",
        "\n",
        "image_list_file_list = []\n",
        "for j, filename in enumerate([train_bboxes_filename, validation_bboxes_filename, test_bboxes_filename]):\n",
        "    print(filename)\n",
        "    with open(filename, 'r') as f:\n",
        "        line = f.readline()\n",
        "        while len(line) != 0:\n",
        "            id, _, class_name, _, x1, x2, y1, y2, _, _, _, _, _ = line.split(',')[:13]\n",
        "            if class_name in list(class_ids.values()) and id not in image_list_file_list:\n",
        "                image_list_file_list.append(id)\n",
        "                with open(image_list_file_path, 'a') as fw:\n",
        "                    fw.write('{}/{}\\n'.format(['train', 'validation', 'test'][j], id))\n",
        "            line = f.readline()\n",
        "\n",
        "        f.close()"
      ],
      "metadata": {
        "id": "jvXQcL5gaagR",
        "execution": {
          "iopub.status.busy": "2023-04-15T13:19:44.393039Z",
          "iopub.execute_input": "2023-04-15T13:19:44.393659Z",
          "iopub.status.idle": "2023-04-15T13:20:17.688273Z",
          "shell.execute_reply.started": "2023-04-15T13:19:44.393622Z",
          "shell.execute_reply": "2023-04-15T13:20:17.687176Z"
        },
        "trusted": true,
        "outputId": "e0af0f91-78f5-4e18-9d58-3a463f398336"
      },
      "execution_count": null,
      "outputs": [
        {
          "name": "stdout",
          "text": "./oidv6-train-annotations-bbox.csv\n./validation-annotations-bbox.csv\n./test-annotations-bbox.csv\n",
          "output_type": "stream"
        }
      ]
    },
    {
      "cell_type": "code",
      "source": [
        "DATA_ALL_DIR = os.path.join('.', 'data_all') # directory that contains all downloaded data selected from the list\n",
        "DATA_OUT_DIR = os.path.join('.', 'data') # directory that contains data reorganized in YOLO format\n",
        "os.makedirs(DATA_ALL_DIR)\n",
        "os.makedirs(DATA_OUT_DIR)"
      ],
      "metadata": {
        "id": "vFzF-GDNYU1g",
        "execution": {
          "iopub.status.busy": "2023-04-15T13:20:33.734927Z",
          "iopub.execute_input": "2023-04-15T13:20:33.735681Z",
          "iopub.status.idle": "2023-04-15T13:20:33.745673Z",
          "shell.execute_reply.started": "2023-04-15T13:20:33.735636Z",
          "shell.execute_reply": "2023-04-15T13:20:33.743848Z"
        },
        "trusted": true
      },
      "execution_count": null,
      "outputs": []
    },
    {
      "cell_type": "code",
      "source": [
        "# run the donwloader script in order to download data related to the target objects \n",
        "# and according to the image_list_file.txt\n",
        "!python downloader.py ./image_list_file.txt --download_folder=/kaggle/working/data_all --num_processes=5"
      ],
      "metadata": {
        "colab": {
          "base_uri": "https://localhost:8080/"
        },
        "id": "9yozb9s3qfNC",
        "outputId": "8462d462-144a-49f4-d040-6227b762d2be",
        "execution": {
          "iopub.status.busy": "2023-04-15T13:20:33.746779Z",
          "iopub.execute_input": "2023-04-15T13:20:33.747232Z",
          "iopub.status.idle": "2023-04-15T13:24:18.963395Z",
          "shell.execute_reply.started": "2023-04-15T13:20:33.747196Z",
          "shell.execute_reply": "2023-04-15T13:24:18.962156Z"
        },
        "trusted": true
      },
      "execution_count": null,
      "outputs": [
        {
          "name": "stdout",
          "text": "Downloading images: 100%|███████████████████| 7430/7430 [03:43<00:00, 33.22it/s]\n",
          "output_type": "stream"
        }
      ]
    },
    {
      "cell_type": "code",
      "source": [
        "# Create a dataset in the yolo format with two main directories : images and labels\n",
        "# each containing train and validation data \n",
        "\n",
        "\n",
        "# Create the empty dataset in yolo format\n",
        "for dir_ in ['images', 'labels']:\n",
        "    for set_ in ['train', 'validation', 'test']:\n",
        "        new_dir = os.path.join(DATA_OUT_DIR, dir_, set_)\n",
        "        if os.path.exists(new_dir):\n",
        "            shutil.rmtree(new_dir)\n",
        "        os.makedirs(new_dir)\n"
      ],
      "metadata": {
        "id": "s_m7OhMPmWOg",
        "execution": {
          "iopub.status.busy": "2023-04-15T13:24:18.967254Z",
          "iopub.execute_input": "2023-04-15T13:24:18.967603Z",
          "iopub.status.idle": "2023-04-15T13:24:18.975091Z",
          "shell.execute_reply.started": "2023-04-15T13:24:18.967570Z",
          "shell.execute_reply": "2023-04-15T13:24:18.974077Z"
        },
        "trusted": true
      },
      "execution_count": null,
      "outputs": []
    },
    {
      "cell_type": "code",
      "source": [
        "\n",
        "# Fill the dataset with the appropriate images and labels\n",
        "\n",
        "for j, filename in enumerate([train_bboxes_filename, validation_bboxes_filename, test_bboxes_filename]):\n",
        "    set_ = ['train', 'validation', 'test'][j]\n",
        "    print(filename)\n",
        "    with open(filename, 'r') as f:\n",
        "        line = f.readline()\n",
        "        while len(line) != 0:\n",
        "            id, _, class_name, _, x1, x2, y1, y2, _, _, _, _, _ = line.split(',')[:13]\n",
        "            if class_name in list(class_ids.values()):\n",
        "\n",
        "                if not os.path.exists(os.path.join(DATA_OUT_DIR, 'images', set_, '{}.jpg'.format(id))):\n",
        "\n",
        "                    shutil.copy(os.path.join(DATA_ALL_DIR, '{}.jpg'.format(id)),\n",
        "                                os.path.join(DATA_OUT_DIR, 'images', set_, '{}.jpg'.format(id)))\n",
        "                    \n",
        "                with open(os.path.join(DATA_OUT_DIR, 'labels', set_, '{}.txt'.format(id)), 'a') as f_ann:\n",
        "                    # class_id, xc, yx, w, h\n",
        "                    x1, x2, y1, y2 = [float(j) for j in [x1, x2, y1, y2]]\n",
        "                    xc = (x1 + x2) / 2\n",
        "                    yc = (y1 + y2) / 2\n",
        "                    w = x2 - x1\n",
        "                    h = y2 - y1\n",
        "\n",
        "                    f_ann.write('0 {} {} {} {}\\n'.format(xc, yc, w, h))\n",
        "                    f_ann.close()\n",
        "\n",
        "            line = f.readline()"
      ],
      "metadata": {
        "colab": {
          "base_uri": "https://localhost:8080/"
        },
        "id": "B3cn6xkm2Al3",
        "outputId": "af831523-6f96-4503-d063-f8f2fbe70c03",
        "execution": {
          "iopub.status.busy": "2023-04-15T13:24:18.976851Z",
          "iopub.execute_input": "2023-04-15T13:24:18.977350Z",
          "iopub.status.idle": "2023-04-15T13:24:58.703974Z",
          "shell.execute_reply.started": "2023-04-15T13:24:18.977314Z",
          "shell.execute_reply": "2023-04-15T13:24:58.702765Z"
        },
        "trusted": true
      },
      "execution_count": null,
      "outputs": [
        {
          "name": "stdout",
          "text": "./oidv6-train-annotations-bbox.csv\n./validation-annotations-bbox.csv\n./test-annotations-bbox.csv\n",
          "output_type": "stream"
        }
      ]
    },
    {
      "cell_type": "markdown",
      "source": [
        "## Training the object detection model"
      ],
      "metadata": {
        "id": "WigCyDSDWLiF"
      }
    },
    {
      "cell_type": "code",
      "source": [
        "%pip install ultralytics\n",
        "import ultralytics\n",
        "ultralytics.checks()"
      ],
      "metadata": {
        "id": "LpzPSI1q2Zxz",
        "execution": {
          "iopub.status.busy": "2023-04-15T13:24:58.706674Z",
          "iopub.execute_input": "2023-04-15T13:24:58.707092Z",
          "iopub.status.idle": "2023-04-15T13:25:16.976664Z",
          "shell.execute_reply.started": "2023-04-15T13:24:58.707050Z",
          "shell.execute_reply": "2023-04-15T13:25:16.975505Z"
        },
        "trusted": true,
        "outputId": "34fdb62c-9ac3-4620-d8c1-04920a7b8453"
      },
      "execution_count": null,
      "outputs": [
        {
          "name": "stderr",
          "text": "Ultralytics YOLOv8.0.78 🚀 Python-3.7.12 torch-1.13.0 CUDA:0 (Tesla T4, 15110MiB)\nSetup complete ✅ (2 CPUs, 15.6 GB RAM, 4555.2/8062.4 GB disk)\n",
          "output_type": "stream"
        }
      ]
    },
    {
      "cell_type": "code",
      "source": [
        "from ultralytics import YOLO\n",
        "\n",
        "\n",
        "# Load a model\n",
        "model = YOLO(\"yolov8n.pt\")  \n",
        "\n",
        "# Use the model for training\n",
        "results = model.train(data='/kaggle/working/config.yaml', \n",
        "                      epochs=150)  # train the model\n"
      ],
      "metadata": {
        "id": "cCnadnO1psAW",
        "execution": {
          "iopub.status.busy": "2023-04-15T13:25:16.978934Z",
          "iopub.execute_input": "2023-04-15T13:25:16.980165Z"
        },
        "trusted": true
      },
      "execution_count": null,
      "outputs": []
    },
    {
      "cell_type": "markdown",
      "source": [
        "## Preparing results for download"
      ],
      "metadata": {
        "id": "fNSLQYHvWU7c"
      }
    },
    {
      "cell_type": "code",
      "source": [
        "!zip -r train_results.zip /kaggle/working/runs"
      ],
      "metadata": {
        "id": "4uwMaB_C8VoL",
        "trusted": true
      },
      "execution_count": null,
      "outputs": []
    }
  ]
}