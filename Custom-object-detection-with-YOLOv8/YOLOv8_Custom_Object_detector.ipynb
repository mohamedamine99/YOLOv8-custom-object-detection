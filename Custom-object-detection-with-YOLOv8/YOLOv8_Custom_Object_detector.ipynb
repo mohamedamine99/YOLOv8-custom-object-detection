{
  "nbformat": 4,
  "nbformat_minor": 0,
  "metadata": {
    "colab": {
      "provenance": []
    },
    "kernelspec": {
      "name": "python3",
      "display_name": "Python 3"
    },
    "language_info": {
      "name": "python"
    }
  },
  "cells": [
    {
      "cell_type": "markdown",
      "source": [
        "# YOLOv8 Custom Object detector"
      ],
      "metadata": {
        "id": "56l3RKOsTMAY"
      }
    },
    {
      "cell_type": "markdown",
      "source": [
        "## Importing libraries, modules and files"
      ],
      "metadata": {
        "id": "ZoZrnFsqLDR6"
      }
    },
    {
      "cell_type": "markdown",
      "source": [
        "### importing files from my github repo"
      ],
      "metadata": {
        "id": "wwFSZL50YWFh"
      }
    },
    {
      "cell_type": "code",
      "source": [
        "!git clone https://github.com/mohamedamine99/YOLOv8-custom-object-detection"
      ],
      "metadata": {
        "colab": {
          "base_uri": "https://localhost:8080/"
        },
        "id": "Q_FEoVtf-igA",
        "outputId": "131fe31e-418c-4267-9977-5f495822fb51"
      },
      "execution_count": 1,
      "outputs": [
        {
          "output_type": "stream",
          "name": "stdout",
          "text": [
            "Cloning into 'YOLOv8-custom-object-detection'...\n",
            "remote: Enumerating objects: 202, done.\u001b[K\n",
            "remote: Counting objects: 100% (85/85), done.\u001b[K\n",
            "remote: Compressing objects: 100% (70/70), done.\u001b[K\n",
            "remote: Total 202 (delta 24), reused 71 (delta 15), pack-reused 117\u001b[K\n",
            "Receiving objects: 100% (202/202), 171.34 MiB | 17.53 MiB/s, done.\n",
            "Resolving deltas: 100% (68/68), done.\n",
            "Updating files: 100% (83/83), done.\n"
          ]
        }
      ]
    },
    {
      "cell_type": "code",
      "source": [
        "!git clone https://github.com/mohamedamine99/YOLOv8-Object-Counter"
      ],
      "metadata": {
        "colab": {
          "base_uri": "https://localhost:8080/"
        },
        "id": "x2G--jSY3A4C",
        "outputId": "a22e16ab-9d07-472b-d76a-4b7e14639d03"
      },
      "execution_count": 2,
      "outputs": [
        {
          "output_type": "stream",
          "name": "stdout",
          "text": [
            "Cloning into 'YOLOv8-Object-Counter'...\n",
            "remote: Enumerating objects: 14, done.\u001b[K\n",
            "remote: Counting objects: 100% (14/14), done.\u001b[K\n",
            "remote: Compressing objects: 100% (9/9), done.\u001b[K\n",
            "remote: Total 14 (delta 7), reused 11 (delta 4), pack-reused 0\u001b[K\n",
            "Unpacking objects: 100% (14/14), 9.67 KiB | 1.38 MiB/s, done.\n"
          ]
        }
      ]
    },
    {
      "cell_type": "markdown",
      "source": [
        "### importing modules"
      ],
      "metadata": {
        "id": "7ywW_Y4qYmI2"
      }
    },
    {
      "cell_type": "code",
      "source": [
        "import shutil\n",
        "import os\n",
        "\n",
        "import sys\n",
        "\n",
        "# Add local /content/YOLOv8-Object-Counter path to sys.path\n",
        "sys.path.append('/content/YOLOv8-Object-Counter')\n"
      ],
      "metadata": {
        "id": "hrodd0lKPiDz"
      },
      "execution_count": 3,
      "outputs": []
    },
    {
      "cell_type": "code",
      "source": [
        "!pip install -r /content/YOLOv8-Object-Counter/requirements.txt"
      ],
      "metadata": {
        "id": "wwx247S1H8tn",
        "colab": {
          "base_uri": "https://localhost:8080/"
        },
        "outputId": "81af1580-3d3a-4454-9b7d-ce62f404bf56"
      },
      "execution_count": 4,
      "outputs": [
        {
          "output_type": "stream",
          "name": "stdout",
          "text": [
            "Looking in indexes: https://pypi.org/simple, https://us-python.pkg.dev/colab-wheels/public/simple/\n",
            "Collecting filterpy\n",
            "  Downloading filterpy-1.4.5.zip (177 kB)\n",
            "\u001b[2K     \u001b[90m━━━━━━━━━━━━━━━━━━━━━━━━━━━━━━━━━━━━━━━\u001b[0m \u001b[32m178.0/178.0 kB\u001b[0m \u001b[31m5.0 MB/s\u001b[0m eta \u001b[36m0:00:00\u001b[0m\n",
            "\u001b[?25h  Preparing metadata (setup.py) ... \u001b[?25l\u001b[?25hdone\n",
            "Requirement already satisfied: scikit-image in /usr/local/lib/python3.9/dist-packages (from -r /content/YOLOv8-Object-Counter/requirements.txt (line 2)) (0.19.3)\n",
            "Collecting lap\n",
            "  Downloading lap-0.4.0.tar.gz (1.5 MB)\n",
            "\u001b[2K     \u001b[90m━━━━━━━━━━━━━━━━━━━━━━━━━━━━━━━━━━━━━━━━\u001b[0m \u001b[32m1.5/1.5 MB\u001b[0m \u001b[31m36.5 MB/s\u001b[0m eta \u001b[36m0:00:00\u001b[0m\n",
            "\u001b[?25h  Preparing metadata (setup.py) ... \u001b[?25l\u001b[?25hdone\n",
            "Requirement already satisfied: numpy in /usr/local/lib/python3.9/dist-packages (from filterpy->-r /content/YOLOv8-Object-Counter/requirements.txt (line 1)) (1.22.4)\n",
            "Requirement already satisfied: scipy in /usr/local/lib/python3.9/dist-packages (from filterpy->-r /content/YOLOv8-Object-Counter/requirements.txt (line 1)) (1.10.1)\n",
            "Requirement already satisfied: matplotlib in /usr/local/lib/python3.9/dist-packages (from filterpy->-r /content/YOLOv8-Object-Counter/requirements.txt (line 1)) (3.7.1)\n",
            "Requirement already satisfied: networkx>=2.2 in /usr/local/lib/python3.9/dist-packages (from scikit-image->-r /content/YOLOv8-Object-Counter/requirements.txt (line 2)) (3.1)\n",
            "Requirement already satisfied: imageio>=2.4.1 in /usr/local/lib/python3.9/dist-packages (from scikit-image->-r /content/YOLOv8-Object-Counter/requirements.txt (line 2)) (2.25.1)\n",
            "Requirement already satisfied: pillow!=7.1.0,!=7.1.1,!=8.3.0,>=6.1.0 in /usr/local/lib/python3.9/dist-packages (from scikit-image->-r /content/YOLOv8-Object-Counter/requirements.txt (line 2)) (8.4.0)\n",
            "Requirement already satisfied: PyWavelets>=1.1.1 in /usr/local/lib/python3.9/dist-packages (from scikit-image->-r /content/YOLOv8-Object-Counter/requirements.txt (line 2)) (1.4.1)\n",
            "Requirement already satisfied: tifffile>=2019.7.26 in /usr/local/lib/python3.9/dist-packages (from scikit-image->-r /content/YOLOv8-Object-Counter/requirements.txt (line 2)) (2023.3.21)\n",
            "Requirement already satisfied: packaging>=20.0 in /usr/local/lib/python3.9/dist-packages (from scikit-image->-r /content/YOLOv8-Object-Counter/requirements.txt (line 2)) (23.0)\n",
            "Requirement already satisfied: cycler>=0.10 in /usr/local/lib/python3.9/dist-packages (from matplotlib->filterpy->-r /content/YOLOv8-Object-Counter/requirements.txt (line 1)) (0.11.0)\n",
            "Requirement already satisfied: pyparsing>=2.3.1 in /usr/local/lib/python3.9/dist-packages (from matplotlib->filterpy->-r /content/YOLOv8-Object-Counter/requirements.txt (line 1)) (3.0.9)\n",
            "Requirement already satisfied: importlib-resources>=3.2.0 in /usr/local/lib/python3.9/dist-packages (from matplotlib->filterpy->-r /content/YOLOv8-Object-Counter/requirements.txt (line 1)) (5.12.0)\n",
            "Requirement already satisfied: contourpy>=1.0.1 in /usr/local/lib/python3.9/dist-packages (from matplotlib->filterpy->-r /content/YOLOv8-Object-Counter/requirements.txt (line 1)) (1.0.7)\n",
            "Requirement already satisfied: python-dateutil>=2.7 in /usr/local/lib/python3.9/dist-packages (from matplotlib->filterpy->-r /content/YOLOv8-Object-Counter/requirements.txt (line 1)) (2.8.2)\n",
            "Requirement already satisfied: kiwisolver>=1.0.1 in /usr/local/lib/python3.9/dist-packages (from matplotlib->filterpy->-r /content/YOLOv8-Object-Counter/requirements.txt (line 1)) (1.4.4)\n",
            "Requirement already satisfied: fonttools>=4.22.0 in /usr/local/lib/python3.9/dist-packages (from matplotlib->filterpy->-r /content/YOLOv8-Object-Counter/requirements.txt (line 1)) (4.39.3)\n",
            "Requirement already satisfied: zipp>=3.1.0 in /usr/local/lib/python3.9/dist-packages (from importlib-resources>=3.2.0->matplotlib->filterpy->-r /content/YOLOv8-Object-Counter/requirements.txt (line 1)) (3.15.0)\n",
            "Requirement already satisfied: six>=1.5 in /usr/local/lib/python3.9/dist-packages (from python-dateutil>=2.7->matplotlib->filterpy->-r /content/YOLOv8-Object-Counter/requirements.txt (line 1)) (1.16.0)\n",
            "Building wheels for collected packages: filterpy, lap\n",
            "  Building wheel for filterpy (setup.py) ... \u001b[?25l\u001b[?25hdone\n",
            "  Created wheel for filterpy: filename=filterpy-1.4.5-py3-none-any.whl size=110473 sha256=399e73d00de62dfca4edcb1ac2cb52da30bdf2c62c4fed979ac2a7f3ae9d89e2\n",
            "  Stored in directory: /root/.cache/pip/wheels/53/e6/de/a09ea01e923aaf88b9f8c7c44329e857b2c1a31901167e55e6\n",
            "  Building wheel for lap (setup.py) ... \u001b[?25l\u001b[?25hdone\n",
            "  Created wheel for lap: filename=lap-0.4.0-cp39-cp39-linux_x86_64.whl size=1655027 sha256=4613f76533201f9e923b346bde01766783ca03487e00e2ad054e1f3e6acae75d\n",
            "  Stored in directory: /root/.cache/pip/wheels/2f/8b/30/e7dd4f9dc44fb438381df571c9a6bddc35aafd1bf39c4f8911\n",
            "Successfully built filterpy lap\n",
            "Installing collected packages: lap, filterpy\n",
            "Successfully installed filterpy-1.4.5 lap-0.4.0\n"
          ]
        }
      ]
    },
    {
      "cell_type": "code",
      "source": [
        "import numpy as np\n",
        "import random\n",
        "import cv2\n",
        "import sort\n",
        "import time\n",
        "\n",
        "\n"
      ],
      "metadata": {
        "id": "FDIvbG71Jkhn"
      },
      "execution_count": 5,
      "outputs": []
    },
    {
      "cell_type": "code",
      "execution_count": 6,
      "metadata": {
        "colab": {
          "base_uri": "https://localhost:8080/"
        },
        "id": "hLCrvX5uxtAt",
        "outputId": "bf7d81ea-030f-4124-8191-447b91a3a190"
      },
      "outputs": [
        {
          "output_type": "stream",
          "name": "stderr",
          "text": [
            "Ultralytics YOLOv8.0.82 🚀 Python-3.9.16 torch-2.0.0+cu118 CPU\n",
            "Setup complete ✅ (2 CPUs, 12.7 GB RAM, 23.5/107.7 GB disk)\n"
          ]
        }
      ],
      "source": [
        "%pip install ultralytics\n",
        "import ultralytics\n",
        "ultralytics.checks()\n",
        "from ultralytics import YOLO\n"
      ]
    },
    {
      "cell_type": "code",
      "source": [
        "from yolo_detect_and_count import YOLOv8_ObjectDetector, YOLOv8_ObjectCounter"
      ],
      "metadata": {
        "colab": {
          "base_uri": "https://localhost:8080/"
        },
        "id": "6SMQO7Wbwcp7",
        "outputId": "0001fca7-6a50-447c-d1ac-ec5426a6ff5d"
      },
      "execution_count": 7,
      "outputs": [
        {
          "output_type": "stream",
          "name": "stderr",
          "text": [
            "Ultralytics YOLOv8.0.82 🚀 Python-3.9.16 torch-2.0.0+cu118 CPU\n",
            "Setup complete ✅ (2 CPUs, 12.7 GB RAM, 23.5/107.7 GB disk)\n"
          ]
        }
      ]
    },
    {
      "cell_type": "markdown",
      "source": [
        "## Implementing object detection"
      ],
      "metadata": {
        "id": "5RZfdp_TwpZJ"
      }
    },
    {
      "cell_type": "markdown",
      "source": [
        "### preparing file paths and directories"
      ],
      "metadata": {
        "id": "MVPnI_ZdruJr"
      }
    },
    {
      "cell_type": "code",
      "source": [
        "vid_results_path = '/content/video_object_detection_results'\n",
        "test_vids_path = '/content/YOLOv8-custom-object-detection/Custom-object-detection-with-YOLOv8/test videos'\n",
        "\n",
        "\n",
        "if not os.path.isdir(vid_results_path):\n",
        "    os.makedirs(vid_results_path)\n"
      ],
      "metadata": {
        "id": "Y-xXMgUjiX_0"
      },
      "execution_count": 8,
      "outputs": []
    },
    {
      "cell_type": "markdown",
      "source": [
        "### Instanciating YOLOv8_ObjectDetector objects\n",
        "\n",
        "\n"
      ],
      "metadata": {
        "id": "MfZjVGJSr6ie"
      }
    },
    {
      "cell_type": "code",
      "source": [
        "alpaca_model = '/content/YOLOv8-custom-object-detection/Custom-object-detection-with-YOLOv8/alpaca training results/weights/last.pt'\n",
        "ant_model = '/content/YOLOv8-custom-object-detection/Custom-object-detection-with-YOLOv8/Ant and insect training results  45 epochs'\n"
      ],
      "metadata": {
        "id": "YhaMvVPHAy1r",
        "colab": {
          "base_uri": "https://localhost:8080/"
        },
        "outputId": "ffc069af-4ff9-4cd6-9757-ebaa98db9e18"
      },
      "execution_count": 9,
      "outputs": [
        {
          "output_type": "stream",
          "name": "stderr",
          "text": [
            "WARNING ⚠️ Unable to automatically guess model task, assuming 'task=detect'. Explicitly define task for your model, i.e. 'task=detect', 'segment', 'classify', or 'pose'.\n"
          ]
        }
      ]
    },
    {
      "cell_type": "code",
      "source": [
        "alpaca_detector = YOLOv8_ObjectDetector(alpaca_model, conf = 0.50 )\n",
        "ant_detector = YOLOv8_ObjectDetector(ant_model,model_name= 'ant', conf = 0.50 )"
      ],
      "metadata": {
        "id": "6XaQkGAWEA79"
      },
      "execution_count": null,
      "outputs": []
    },
    {
      "cell_type": "code",
      "source": [
        "alpaca_detector.predict_video(video_path= os.path.join(test_vids_path, 'alpaca.mp4')\n",
        ", save_dir = vid_results_path, save_format = \"avi\", display = 'custom', colors = [(127,0,0)])"
      ],
      "metadata": {
        "colab": {
          "base_uri": "https://localhost:8080/"
        },
        "id": "HteDnuvUFTXe",
        "outputId": "733c5e66-7da6-4129-e6d9-a5ad6d0856c6"
      },
      "execution_count": 11,
      "outputs": [
        {
          "output_type": "stream",
          "name": "stdout",
          "text": [
            "----------------------------\n",
            "DETECTING OBJECTS IN : alpaca.mp4 : \n",
            "RESOLUTION : 1280x720\n",
            "SAVING TO :/content/video_object_detection_results/last -- alpaca.avi\n",
            "Error reading frame\n"
          ]
        }
      ]
    },
    {
      "cell_type": "markdown",
      "source": [
        "## Preparing results for download "
      ],
      "metadata": {
        "id": "2fCGL2kUwh7f"
      }
    },
    {
      "cell_type": "code",
      "source": [
        "!zip -r vid_results.zip /content/video_object_detection_results"
      ],
      "metadata": {
        "id": "E3GYF0xsxd4h",
        "colab": {
          "base_uri": "https://localhost:8080/"
        },
        "outputId": "9ddf6926-f698-4ff9-a648-860416559607"
      },
      "execution_count": 19,
      "outputs": [
        {
          "output_type": "stream",
          "name": "stdout",
          "text": [
            "  adding: content/video_object_detection_results/ (stored 0%)\n",
            "  adding: content/video_object_detection_results/last -- alpaca.avi (deflated 0%)\n",
            "  adding: content/video_object_detection_results/.ipynb_checkpoints/ (stored 0%)\n"
          ]
        }
      ]
    }
  ]
}