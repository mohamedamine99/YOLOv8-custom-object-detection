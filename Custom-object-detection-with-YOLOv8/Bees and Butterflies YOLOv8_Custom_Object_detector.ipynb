{
  "nbformat": 4,
  "nbformat_minor": 0,
  "metadata": {
    "colab": {
      "provenance": []
    },
    "kernelspec": {
      "name": "python3",
      "display_name": "Python 3"
    },
    "language_info": {
      "name": "python"
    }
  },
  "cells": [
    {
      "cell_type": "markdown",
      "source": [
        "# YOLOv8 Custom Object detector"
      ],
      "metadata": {
        "id": "56l3RKOsTMAY"
      }
    },
    {
      "cell_type": "markdown",
      "source": [
        "## Importing libraries, modules and files"
      ],
      "metadata": {
        "id": "ZoZrnFsqLDR6"
      }
    },
    {
      "cell_type": "markdown",
      "source": [
        "### importing files from my github repo"
      ],
      "metadata": {
        "id": "wwFSZL50YWFh"
      }
    },
    {
      "cell_type": "code",
      "source": [
        "!git clone https://github.com/mohamedamine99/YOLOv8-custom-object-detection"
      ],
      "metadata": {
        "colab": {
          "base_uri": "https://localhost:8080/"
        },
        "id": "Q_FEoVtf-igA",
        "outputId": "131fe31e-418c-4267-9977-5f495822fb51"
      },
      "execution_count": null,
      "outputs": [
        {
          "output_type": "stream",
          "name": "stdout",
          "text": [
            "Cloning into 'YOLOv8-custom-object-detection'...\n",
            "remote: Enumerating objects: 202, done.\u001b[K\n",
            "remote: Counting objects: 100% (85/85), done.\u001b[K\n",
            "remote: Compressing objects: 100% (70/70), done.\u001b[K\n",
            "remote: Total 202 (delta 24), reused 71 (delta 15), pack-reused 117\u001b[K\n",
            "Receiving objects: 100% (202/202), 171.34 MiB | 17.53 MiB/s, done.\n",
            "Resolving deltas: 100% (68/68), done.\n",
            "Updating files: 100% (83/83), done.\n"
          ]
        }
      ]
    },
    {
      "cell_type": "code",
      "source": [
        "!git clone https://github.com/mohamedamine99/YOLOv8-Object-Counter"
      ],
      "metadata": {
        "colab": {
          "base_uri": "https://localhost:8080/"
        },
        "id": "x2G--jSY3A4C",
        "outputId": "d851bdd6-6277-4a34-b377-373e916f9cc5"
      },
      "execution_count": 1,
      "outputs": [
        {
          "output_type": "stream",
          "name": "stdout",
          "text": [
            "Cloning into 'YOLOv8-Object-Counter'...\n",
            "remote: Enumerating objects: 14, done.\u001b[K\n",
            "remote: Counting objects: 100% (14/14), done.\u001b[K\n",
            "remote: Compressing objects: 100% (9/9), done.\u001b[K\n",
            "remote: Total 14 (delta 7), reused 11 (delta 4), pack-reused 0\u001b[K\n",
            "Unpacking objects: 100% (14/14), 9.67 KiB | 173.00 KiB/s, done.\n"
          ]
        }
      ]
    },
    {
      "cell_type": "markdown",
      "source": [
        "### importing modules"
      ],
      "metadata": {
        "id": "7ywW_Y4qYmI2"
      }
    },
    {
      "cell_type": "code",
      "source": [
        "import shutil\n",
        "import os\n",
        "\n",
        "import sys\n",
        "\n",
        "# Add local /content/YOLOv8-Object-Counter path to sys.path\n",
        "sys.path.append('/content/YOLOv8-Object-Counter')\n"
      ],
      "metadata": {
        "id": "hrodd0lKPiDz"
      },
      "execution_count": 2,
      "outputs": []
    },
    {
      "cell_type": "code",
      "source": [
        "!pip install -r /content/YOLOv8-Object-Counter/requirements.txt"
      ],
      "metadata": {
        "id": "wwx247S1H8tn",
        "colab": {
          "base_uri": "https://localhost:8080/"
        },
        "outputId": "75f8f123-86fa-4051-a449-b02ca3b5cbdc"
      },
      "execution_count": 3,
      "outputs": [
        {
          "output_type": "stream",
          "name": "stdout",
          "text": [
            "Looking in indexes: https://pypi.org/simple, https://us-python.pkg.dev/colab-wheels/public/simple/\n",
            "Collecting filterpy\n",
            "  Downloading filterpy-1.4.5.zip (177 kB)\n",
            "\u001b[2K     \u001b[90m━━━━━━━━━━━━━━━━━━━━━━━━━━━━━━━━━━━━━━━\u001b[0m \u001b[32m178.0/178.0 kB\u001b[0m \u001b[31m5.6 MB/s\u001b[0m eta \u001b[36m0:00:00\u001b[0m\n",
            "\u001b[?25h  Preparing metadata (setup.py) ... \u001b[?25l\u001b[?25hdone\n",
            "Requirement already satisfied: scikit-image in /usr/local/lib/python3.9/dist-packages (from -r /content/YOLOv8-Object-Counter/requirements.txt (line 2)) (0.19.3)\n",
            "Collecting lap\n",
            "  Downloading lap-0.4.0.tar.gz (1.5 MB)\n",
            "\u001b[2K     \u001b[90m━━━━━━━━━━━━━━━━━━━━━━━━━━━━━━━━━━━━━━━━\u001b[0m \u001b[32m1.5/1.5 MB\u001b[0m \u001b[31m21.2 MB/s\u001b[0m eta \u001b[36m0:00:00\u001b[0m\n",
            "\u001b[?25h  Preparing metadata (setup.py) ... \u001b[?25l\u001b[?25hdone\n",
            "Requirement already satisfied: numpy in /usr/local/lib/python3.9/dist-packages (from filterpy->-r /content/YOLOv8-Object-Counter/requirements.txt (line 1)) (1.22.4)\n",
            "Requirement already satisfied: scipy in /usr/local/lib/python3.9/dist-packages (from filterpy->-r /content/YOLOv8-Object-Counter/requirements.txt (line 1)) (1.10.1)\n",
            "Requirement already satisfied: matplotlib in /usr/local/lib/python3.9/dist-packages (from filterpy->-r /content/YOLOv8-Object-Counter/requirements.txt (line 1)) (3.7.1)\n",
            "Requirement already satisfied: networkx>=2.2 in /usr/local/lib/python3.9/dist-packages (from scikit-image->-r /content/YOLOv8-Object-Counter/requirements.txt (line 2)) (3.1)\n",
            "Requirement already satisfied: imageio>=2.4.1 in /usr/local/lib/python3.9/dist-packages (from scikit-image->-r /content/YOLOv8-Object-Counter/requirements.txt (line 2)) (2.25.1)\n",
            "Requirement already satisfied: packaging>=20.0 in /usr/local/lib/python3.9/dist-packages (from scikit-image->-r /content/YOLOv8-Object-Counter/requirements.txt (line 2)) (23.1)\n",
            "Requirement already satisfied: pillow!=7.1.0,!=7.1.1,!=8.3.0,>=6.1.0 in /usr/local/lib/python3.9/dist-packages (from scikit-image->-r /content/YOLOv8-Object-Counter/requirements.txt (line 2)) (8.4.0)\n",
            "Requirement already satisfied: tifffile>=2019.7.26 in /usr/local/lib/python3.9/dist-packages (from scikit-image->-r /content/YOLOv8-Object-Counter/requirements.txt (line 2)) (2023.4.12)\n",
            "Requirement already satisfied: PyWavelets>=1.1.1 in /usr/local/lib/python3.9/dist-packages (from scikit-image->-r /content/YOLOv8-Object-Counter/requirements.txt (line 2)) (1.4.1)\n",
            "Requirement already satisfied: contourpy>=1.0.1 in /usr/local/lib/python3.9/dist-packages (from matplotlib->filterpy->-r /content/YOLOv8-Object-Counter/requirements.txt (line 1)) (1.0.7)\n",
            "Requirement already satisfied: kiwisolver>=1.0.1 in /usr/local/lib/python3.9/dist-packages (from matplotlib->filterpy->-r /content/YOLOv8-Object-Counter/requirements.txt (line 1)) (1.4.4)\n",
            "Requirement already satisfied: importlib-resources>=3.2.0 in /usr/local/lib/python3.9/dist-packages (from matplotlib->filterpy->-r /content/YOLOv8-Object-Counter/requirements.txt (line 1)) (5.12.0)\n",
            "Requirement already satisfied: python-dateutil>=2.7 in /usr/local/lib/python3.9/dist-packages (from matplotlib->filterpy->-r /content/YOLOv8-Object-Counter/requirements.txt (line 1)) (2.8.2)\n",
            "Requirement already satisfied: cycler>=0.10 in /usr/local/lib/python3.9/dist-packages (from matplotlib->filterpy->-r /content/YOLOv8-Object-Counter/requirements.txt (line 1)) (0.11.0)\n",
            "Requirement already satisfied: fonttools>=4.22.0 in /usr/local/lib/python3.9/dist-packages (from matplotlib->filterpy->-r /content/YOLOv8-Object-Counter/requirements.txt (line 1)) (4.39.3)\n",
            "Requirement already satisfied: pyparsing>=2.3.1 in /usr/local/lib/python3.9/dist-packages (from matplotlib->filterpy->-r /content/YOLOv8-Object-Counter/requirements.txt (line 1)) (3.0.9)\n",
            "Requirement already satisfied: zipp>=3.1.0 in /usr/local/lib/python3.9/dist-packages (from importlib-resources>=3.2.0->matplotlib->filterpy->-r /content/YOLOv8-Object-Counter/requirements.txt (line 1)) (3.15.0)\n",
            "Requirement already satisfied: six>=1.5 in /usr/local/lib/python3.9/dist-packages (from python-dateutil>=2.7->matplotlib->filterpy->-r /content/YOLOv8-Object-Counter/requirements.txt (line 1)) (1.16.0)\n",
            "Building wheels for collected packages: filterpy, lap\n",
            "  Building wheel for filterpy (setup.py) ... \u001b[?25l\u001b[?25hdone\n",
            "  Created wheel for filterpy: filename=filterpy-1.4.5-py3-none-any.whl size=110473 sha256=d79e0c078ae18e4004b25f80a37bb6ebde677c0c0d2dd4b7257d2f30b4eebeae\n",
            "  Stored in directory: /root/.cache/pip/wheels/53/e6/de/a09ea01e923aaf88b9f8c7c44329e857b2c1a31901167e55e6\n",
            "  Building wheel for lap (setup.py) ... \u001b[?25l\u001b[?25hdone\n",
            "  Created wheel for lap: filename=lap-0.4.0-cp39-cp39-linux_x86_64.whl size=1655034 sha256=517d47781cf282debd585cc6ff1a8c2b9490aaad628a4a7711ee072d246363f2\n",
            "  Stored in directory: /root/.cache/pip/wheels/2f/8b/30/e7dd4f9dc44fb438381df571c9a6bddc35aafd1bf39c4f8911\n",
            "Successfully built filterpy lap\n",
            "Installing collected packages: lap, filterpy\n",
            "Successfully installed filterpy-1.4.5 lap-0.4.0\n"
          ]
        }
      ]
    },
    {
      "cell_type": "code",
      "source": [
        "import numpy as np\n",
        "import random\n",
        "import cv2\n",
        "import sort\n",
        "import time\n",
        "\n",
        "\n"
      ],
      "metadata": {
        "id": "FDIvbG71Jkhn"
      },
      "execution_count": 4,
      "outputs": []
    },
    {
      "cell_type": "code",
      "execution_count": 5,
      "metadata": {
        "colab": {
          "base_uri": "https://localhost:8080/"
        },
        "id": "hLCrvX5uxtAt",
        "outputId": "b250da07-a7ff-4695-bc1d-cff4d53ec4c4"
      },
      "outputs": [
        {
          "output_type": "stream",
          "name": "stderr",
          "text": [
            "Ultralytics YOLOv8.0.87 🚀 Python-3.9.16 torch-2.0.0+cu118 CPU\n",
            "Setup complete ✅ (2 CPUs, 12.7 GB RAM, 23.3/107.7 GB disk)\n"
          ]
        }
      ],
      "source": [
        "%pip install ultralytics\n",
        "import ultralytics\n",
        "ultralytics.checks()\n",
        "from ultralytics import YOLO\n"
      ]
    },
    {
      "cell_type": "code",
      "source": [
        "from yolo_detect_and_count import YOLOv8_ObjectDetector, YOLOv8_ObjectCounter"
      ],
      "metadata": {
        "colab": {
          "base_uri": "https://localhost:8080/"
        },
        "id": "6SMQO7Wbwcp7",
        "outputId": "74763912-10b8-4c04-f537-96a1defb4d11"
      },
      "execution_count": 6,
      "outputs": [
        {
          "output_type": "stream",
          "name": "stderr",
          "text": [
            "Ultralytics YOLOv8.0.87 🚀 Python-3.9.16 torch-2.0.0+cu118 CPU\n",
            "Setup complete ✅ (2 CPUs, 12.7 GB RAM, 23.3/107.7 GB disk)\n"
          ]
        }
      ]
    },
    {
      "cell_type": "markdown",
      "source": [
        "## Implementing object detection"
      ],
      "metadata": {
        "id": "5RZfdp_TwpZJ"
      }
    },
    {
      "cell_type": "markdown",
      "source": [
        "### preparing file paths and directories"
      ],
      "metadata": {
        "id": "MVPnI_ZdruJr"
      }
    },
    {
      "cell_type": "code",
      "source": [
        "vid_results_path = '/content/video_object_detection_results'\n",
        "test_vids_path = '/content/YOLOv8-custom-object-detection/Custom-object-detection-with-YOLOv8/test videos'\n",
        "\n",
        "\n",
        "if not os.path.isdir(vid_results_path):\n",
        "    os.makedirs(vid_results_path)\n"
      ],
      "metadata": {
        "id": "Y-xXMgUjiX_0"
      },
      "execution_count": 7,
      "outputs": []
    },
    {
      "cell_type": "markdown",
      "source": [
        "### Instanciating YOLOv8_ObjectDetector objects\n",
        "\n",
        "\n"
      ],
      "metadata": {
        "id": "MfZjVGJSr6ie"
      }
    },
    {
      "cell_type": "code",
      "source": [
        "butterfly_model = '/content/best.pt'\n",
        "#ant_model = '/content/YOLOv8-custom-object-detection/Custom-object-detection-with-YOLOv8/Ant and insect training results  45 epochs'\n"
      ],
      "metadata": {
        "id": "YhaMvVPHAy1r"
      },
      "execution_count": 10,
      "outputs": []
    },
    {
      "cell_type": "code",
      "source": [
        "butterfly_detector = YOLOv8_ObjectDetector(butterfly_model, conf = 0.25 )\n",
        "#ant_detector = YOLOv8_ObjectDetector(ant_model,model_name= 'ant', conf = 0.50 )"
      ],
      "metadata": {
        "id": "6XaQkGAWEA79"
      },
      "execution_count": 18,
      "outputs": []
    },
    {
      "cell_type": "code",
      "source": [
        "butterfly_detector.predict_video(video_path= '/content/butterflies.mp4'\n",
        ", save_dir = vid_results_path, save_format = \"avi\", display = 'custom', colors = [(127,0,0) , (0,255,0)])\n"
      ],
      "metadata": {
        "colab": {
          "base_uri": "https://localhost:8080/"
        },
        "id": "HteDnuvUFTXe",
        "outputId": "efcfad03-6e35-4e93-ab0f-26360fbee797"
      },
      "execution_count": 19,
      "outputs": [
        {
          "output_type": "stream",
          "name": "stdout",
          "text": [
            "----------------------------\n",
            "DETECTING OBJECTS IN : butterflies.mp4 : \n",
            "RESOLUTION : 1280x720\n",
            "SAVING TO :/content/video_object_detection_results/best -- butterflies.avi\n",
            "Error reading frame\n"
          ]
        }
      ]
    },
    {
      "cell_type": "code",
      "source": [
        "butterfly_detector.predict_video(video_path= '/content/bees.mp4'\n",
        ", save_dir = vid_results_path, save_format = \"avi\", display = 'custom', colors = [(127,0,0) , (0,255,0)])"
      ],
      "metadata": {
        "colab": {
          "base_uri": "https://localhost:8080/"
        },
        "id": "x-QVl24Rl6uq",
        "outputId": "6a35285b-7fed-4bbe-9b4f-9da983fba647"
      },
      "execution_count": 21,
      "outputs": [
        {
          "output_type": "stream",
          "name": "stdout",
          "text": [
            "----------------------------\n",
            "DETECTING OBJECTS IN : bees.mp4 : \n",
            "RESOLUTION : 1280x720\n",
            "SAVING TO :/content/video_object_detection_results/best -- bees.avi\n",
            "Error reading frame\n"
          ]
        }
      ]
    },
    {
      "cell_type": "markdown",
      "source": [
        "## Preparing results for download "
      ],
      "metadata": {
        "id": "2fCGL2kUwh7f"
      }
    },
    {
      "cell_type": "code",
      "source": [
        "!zip -r vid_results.zip /content/video_object_detection_results"
      ],
      "metadata": {
        "id": "E3GYF0xsxd4h",
        "colab": {
          "base_uri": "https://localhost:8080/"
        },
        "outputId": "26097f90-b068-4240-9198-bd84b9b782d5"
      },
      "execution_count": 20,
      "outputs": [
        {
          "output_type": "stream",
          "name": "stdout",
          "text": [
            "updating: content/video_object_detection_results/ (stored 0%)\n",
            "updating: content/video_object_detection_results/best -- butterflies.avi (deflated 0%)\n"
          ]
        }
      ]
    }
  ]
}