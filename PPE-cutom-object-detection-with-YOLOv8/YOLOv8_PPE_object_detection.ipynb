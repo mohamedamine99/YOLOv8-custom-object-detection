{
  "nbformat": 4,
  "nbformat_minor": 0,
  "metadata": {
    "colab": {
      "provenance": []
    },
    "kernelspec": {
      "name": "python3",
      "display_name": "Python 3"
    },
    "language_info": {
      "name": "python"
    }
  },
  "cells": [
    {
      "cell_type": "markdown",
      "source": [
        "<div align=\"center\">\n",
        "\n",
        "# Personal Protective Equipment custom object detection with YOLOv8\n",
        "\n",
        "</div>\n",
        "\n",
        "Welcome to this collaboration notebook, where we'll be leveraging the YOLOv8 algorithm for object detection to detect Personal Protective Equipment (PPE). In this project, we'll be using custom modules that were developed in earlier projects for object detection to create a system that can identify PPE such as gloves, masks, goggles, and other equipment."
      ],
      "metadata": {
        "id": "OHT9gxiu-MfK"
      }
    },
    {
      "cell_type": "markdown",
      "source": [
        "## Importing libraries, modules and files"
      ],
      "metadata": {
        "id": "OIjvtMyYBYS_"
      }
    },
    {
      "cell_type": "code",
      "execution_count": 1,
      "metadata": {
        "colab": {
          "base_uri": "https://localhost:8080/"
        },
        "id": "8JyERBVZGlnH",
        "outputId": "a794f3d7-3fe7-4a46-ec38-f60087455b5b"
      },
      "outputs": [
        {
          "output_type": "stream",
          "name": "stdout",
          "text": [
            "Cloning into 'YOLOv8-custom-object-detection'...\n",
            "remote: Enumerating objects: 43, done.\u001b[K\n",
            "remote: Counting objects: 100% (36/36), done.\u001b[K\n",
            "remote: Compressing objects: 100% (27/27), done.\u001b[K\n",
            "remote: Total 43 (delta 15), reused 29 (delta 8), pack-reused 7\u001b[K\n",
            "Unpacking objects: 100% (43/43), 80.78 MiB | 6.54 MiB/s, done.\n",
            "Updating files: 100% (11/11), done.\n"
          ]
        }
      ],
      "source": [
        "!git clone https://github.com/mohamedamine99/YOLOv8-custom-object-detection"
      ]
    },
    {
      "cell_type": "code",
      "source": [
        "!pip install -r /content/YOLOv8-custom-object-detection/PPE-cutom-object-detection-with-YOLOv8/requirements.txt"
      ],
      "metadata": {
        "id": "qcmHF-TudRB1"
      },
      "execution_count": null,
      "outputs": []
    },
    {
      "cell_type": "code",
      "source": [
        "%pip install ultralytics"
      ],
      "metadata": {
        "id": "XxYyJkNUeFXW"
      },
      "execution_count": null,
      "outputs": []
    },
    {
      "cell_type": "code",
      "source": [
        "import os\n",
        "import shutil\n",
        "import cv2\n",
        "import numpy as np\n",
        "\n",
        "import sys\n",
        "sys.path.append('/content/YOLOv8-custom-object-detection/PPE-cutom-object-detection-with-YOLOv8')\n"
      ],
      "metadata": {
        "id": "l76G__GqcVKb"
      },
      "execution_count": 4,
      "outputs": []
    },
    {
      "cell_type": "code",
      "source": [
        "import ultralytics\n",
        "from ultralytics import YOLO\n",
        "import sort\n",
        "from yolo_detect_and_count import YOLOv8_ObjectDetector"
      ],
      "metadata": {
        "colab": {
          "base_uri": "https://localhost:8080/"
        },
        "id": "DLpHhv6zd9az",
        "outputId": "f9480fb2-3eb7-4ea3-c999-de12dfb3c55e"
      },
      "execution_count": 5,
      "outputs": [
        {
          "output_type": "stream",
          "name": "stderr",
          "text": [
            "Ultralytics YOLOv8.0.75 🚀 Python-3.9.16 torch-2.0.0+cu118 CPU\n",
            "Setup complete ✅ (2 CPUs, 12.7 GB RAM, 23.4/107.7 GB disk)\n"
          ]
        }
      ]
    },
    {
      "cell_type": "markdown",
      "source": [
        "## Implementing object detection"
      ],
      "metadata": {
        "id": "R3zC0oeRBajX"
      }
    },
    {
      "cell_type": "code",
      "source": [
        "# preparing labels\n",
        "ppe_labels = ['Hardhat', 'Mask', 'NO-Hardhat', 'NO-Mask', 'NO-Safety Vest', 'Person', 'Safety Cone',\n",
        "              'Safety Vest', 'machinery', 'vehicle']"
      ],
      "metadata": {
        "id": "-mlWs3ySeDEr"
      },
      "execution_count": 6,
      "outputs": []
    },
    {
      "cell_type": "code",
      "source": [
        "# instanciating the object detector\n",
        "ppe_detector = YOLOv8_ObjectDetector(model_file = '/content/YOLOv8-custom-object-detection/PPE-cutom-object-detection-with-YOLOv8/ppe.pt',\n",
        "                                     labels = ppe_labels\n",
        "                                     )"
      ],
      "metadata": {
        "id": "Q-dEcctCfguT"
      },
      "execution_count": 7,
      "outputs": []
    },
    {
      "cell_type": "code",
      "source": [
        "# running inference on a sample image \n",
        "img = cv2.imread('/content/YOLOv8-custom-object-detection/PPE-cutom-object-detection-with-YOLOv8/test imgs/ppe test equipement.PNG')\n",
        "cv2.imwrite('img.png',img)\n",
        "r = ppe_detector.predict_img(img)"
      ],
      "metadata": {
        "colab": {
          "base_uri": "https://localhost:8080/"
        },
        "id": "7JwxStr2h1uy",
        "outputId": "182b294a-f3a3-4e88-f2dd-8846ea1a6bd6"
      },
      "execution_count": 8,
      "outputs": [
        {
          "output_type": "stream",
          "name": "stderr",
          "text": [
            "\n",
            "0: 384x640 2 Hardhats, 2 NO-Masks, 1 NO-Safety Vest, 2 Persons, 1 Safety Vest, 1820.4ms\n",
            "Speed: 1.5ms preprocess, 1820.4ms inference, 16.4ms postprocess per image at shape (1, 3, 640, 640)\n"
          ]
        }
      ]
    },
    {
      "cell_type": "code",
      "source": [
        "# creating a ist of random colors for custom display\n",
        "import random\n",
        "colors = []\n",
        "for _ in range(80):\n",
        "    rand_tuple = (random.randint(50, 255), random.randint(50, 255), random.randint(50, 255))\n",
        "    colors.append(rand_tuple)\n"
      ],
      "metadata": {
        "id": "SB9ct2tSq37M"
      },
      "execution_count": 9,
      "outputs": []
    },
    {
      "cell_type": "code",
      "source": [
        "# saving results with YOLOv8 default display\n",
        "#img = ppe_detector.default_display()\n",
        "#cv2.imwrite('default-PPE-result.png', img)\n",
        "\n",
        "# saving results with YOLOv8 custom display\n",
        "img = ppe_detector.custom_display(colors = colors)\n",
        "cv2.imwrite('custom-PPE-result.png', img)\n",
        "\n"
      ],
      "metadata": {
        "colab": {
          "base_uri": "https://localhost:8080/"
        },
        "id": "kgx3GA8CjDBO",
        "outputId": "681123c8-b67c-43e5-8b11-6be750ec899f"
      },
      "execution_count": 10,
      "outputs": [
        {
          "output_type": "execute_result",
          "data": {
            "text/plain": [
              "True"
            ]
          },
          "metadata": {},
          "execution_count": 10
        }
      ]
    }
  ]
}