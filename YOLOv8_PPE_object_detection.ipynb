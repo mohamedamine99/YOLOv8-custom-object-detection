{
  "nbformat": 4,
  "nbformat_minor": 0,
  "metadata": {
    "colab": {
      "provenance": []
    },
    "kernelspec": {
      "name": "python3",
      "display_name": "Python 3"
    },
    "language_info": {
      "name": "python"
    }
  },
  "cells": [
    {
      "cell_type": "code",
      "execution_count": 1,
      "metadata": {
        "colab": {
          "base_uri": "https://localhost:8080/"
        },
        "id": "8JyERBVZGlnH",
        "outputId": "9f725fc3-0775-43d3-dead-8e53add5681d"
      },
      "outputs": [
        {
          "output_type": "stream",
          "name": "stdout",
          "text": [
            "Cloning into 'YOLOv8-custom-object-detection'...\n",
            "remote: Enumerating objects: 26, done.\u001b[K\n",
            "remote: Counting objects: 100% (19/19), done.\u001b[K\n",
            "remote: Compressing objects: 100% (13/13), done.\u001b[K\n",
            "remote: Total 26 (delta 7), reused 17 (delta 5), pack-reused 7\u001b[K\n",
            "Unpacking objects: 100% (26/26), 79.50 MiB | 6.46 MiB/s, done.\n"
          ]
        }
      ],
      "source": [
        "!git clone https://github.com/mohamedamine99/YOLOv8-custom-object-detection"
      ]
    },
    {
      "cell_type": "code",
      "source": [
        "!pip install -r /content/YOLOv8-custom-object-detection/requirements.txt"
      ],
      "metadata": {
        "id": "qcmHF-TudRB1"
      },
      "execution_count": null,
      "outputs": []
    },
    {
      "cell_type": "code",
      "source": [
        "%pip install ultralytics"
      ],
      "metadata": {
        "id": "XxYyJkNUeFXW"
      },
      "execution_count": null,
      "outputs": []
    },
    {
      "cell_type": "code",
      "source": [
        "import os\n",
        "import shutil\n",
        "import cv2\n",
        "import numpy as np\n",
        "\n",
        "import sys\n",
        "sys.path.append('/content/YOLOv8-custom-object-detection')\n"
      ],
      "metadata": {
        "id": "l76G__GqcVKb"
      },
      "execution_count": 4,
      "outputs": []
    },
    {
      "cell_type": "code",
      "source": [
        "import ultralytics\n",
        "from ultralytics import YOLO\n",
        "import sort\n",
        "from yolo_detect_and_count import YOLOv8_ObjectDetector"
      ],
      "metadata": {
        "colab": {
          "base_uri": "https://localhost:8080/"
        },
        "id": "DLpHhv6zd9az",
        "outputId": "0cfd5668-198b-4e5a-fff2-1a4a4d38e767"
      },
      "execution_count": 5,
      "outputs": [
        {
          "output_type": "stream",
          "name": "stderr",
          "text": [
            "Ultralytics YOLOv8.0.74 🚀 Python-3.9.16 torch-2.0.0+cu118 CPU\n",
            "Setup complete ✅ (2 CPUs, 12.7 GB RAM, 23.4/107.7 GB disk)\n"
          ]
        }
      ]
    },
    {
      "cell_type": "code",
      "source": [
        "ppe_labels = ['Hardhat', 'Mask', 'NO-Hardhat', 'NO-Mask', 'NO-Safety Vest', 'Person', 'Safety Cone',\n",
        "              'Safety Vest', 'machinery', 'vehicle']"
      ],
      "metadata": {
        "id": "-mlWs3ySeDEr"
      },
      "execution_count": 6,
      "outputs": []
    },
    {
      "cell_type": "code",
      "source": [
        "ppe_detector = YOLOv8_ObjectDetector(model_file = '/content/YOLOv8-custom-object-detection/ppe.pt',\n",
        "                                     labels = ppe_labels\n",
        "                                     )"
      ],
      "metadata": {
        "id": "Q-dEcctCfguT"
      },
      "execution_count": 7,
      "outputs": []
    },
    {
      "cell_type": "code",
      "source": [
        "r = ppe_detector.predict_img(cv2.imread('/content/YOLOv8-custom-object-detection/test imgs/ppe test equipement.PNG'))"
      ],
      "metadata": {
        "colab": {
          "base_uri": "https://localhost:8080/"
        },
        "id": "7JwxStr2h1uy",
        "outputId": "5365d6a7-ada1-422a-b873-2a2e9a795ded"
      },
      "execution_count": 8,
      "outputs": [
        {
          "output_type": "stream",
          "name": "stderr",
          "text": [
            "\n",
            "0: 384x640 2 Hardhats, 2 NO-Masks, 1 NO-Safety Vest, 2 Persons, 1 Safety Vest, 1852.6ms\n",
            "Speed: 1.0ms preprocess, 1852.6ms inference, 29.5ms postprocess per image at shape (1, 3, 640, 640)\n"
          ]
        }
      ]
    },
    {
      "cell_type": "code",
      "source": [
        "import random\n",
        "colors = []\n",
        "for _ in range(80):\n",
        "    rand_tuple = (random.randint(50, 255), random.randint(50, 255), random.randint(50, 255))\n",
        "    colors.append(rand_tuple)\n"
      ],
      "metadata": {
        "id": "SB9ct2tSq37M"
      },
      "execution_count": 9,
      "outputs": []
    },
    {
      "cell_type": "code",
      "source": [
        "img = ppe_detector.default_display()\n",
        "cv2.imwrite('default-PPE-result.png', img)\n",
        "img = ppe_detector.custom_display(colors = colors)\n",
        "cv2.imwrite('custom-PPE-result.png', img)\n",
        "\n"
      ],
      "metadata": {
        "colab": {
          "base_uri": "https://localhost:8080/"
        },
        "id": "kgx3GA8CjDBO",
        "outputId": "1871d7e8-e88c-43c8-ebbd-b2ebf66e34cd"
      },
      "execution_count": 10,
      "outputs": [
        {
          "output_type": "execute_result",
          "data": {
            "text/plain": [
              "True"
            ]
          },
          "metadata": {},
          "execution_count": 10
        }
      ]
    }
  ]
}