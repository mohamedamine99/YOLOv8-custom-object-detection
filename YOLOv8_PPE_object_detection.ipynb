{
  "nbformat": 4,
  "nbformat_minor": 0,
  "metadata": {
    "colab": {
      "provenance": []
    },
    "kernelspec": {
      "name": "python3",
      "display_name": "Python 3"
    },
    "language_info": {
      "name": "python"
    }
  },
  "cells": [
    {
      "cell_type": "markdown",
      "source": [
        "<div align=\"center\">\n",
        "\n",
        "# Personal Protective Equipment custom object detection with YOLOv8\n",
        "\n",
        "</div>\n",
        "\n",
        "Welcome to this collaboration notebook, where we'll be leveraging the YOLOv8 algorithm for object detection to detect Personal Protective Equipment (PPE). In this project, we'll be using custom modules that were developed in earlier projects for object detection to create a system that can identify PPE such as gloves, masks, goggles, and other equipment."
      ],
      "metadata": {
        "id": "OHT9gxiu-MfK"
      }
    },
    {
      "cell_type": "markdown",
      "source": [
        "## Importing libraries, modules and files"
      ],
      "metadata": {
        "id": "OIjvtMyYBYS_"
      }
    },
    {
      "cell_type": "code",
      "execution_count": null,
      "metadata": {
        "id": "8JyERBVZGlnH"
      },
      "outputs": [],
      "source": [
        "!git clone https://github.com/mohamedamine99/YOLOv8-custom-object-detection"
      ]
    },
    {
      "cell_type": "code",
      "source": [
        "!pip install -r /content/YOLOv8-custom-object-detection/requirements.txt"
      ],
      "metadata": {
        "id": "qcmHF-TudRB1"
      },
      "execution_count": null,
      "outputs": []
    },
    {
      "cell_type": "code",
      "source": [
        "%pip install ultralytics"
      ],
      "metadata": {
        "id": "XxYyJkNUeFXW"
      },
      "execution_count": 22,
      "outputs": []
    },
    {
      "cell_type": "code",
      "source": [
        "import os\n",
        "import shutil\n",
        "import cv2\n",
        "import numpy as np\n",
        "\n",
        "import sys\n",
        "sys.path.append('/content/YOLOv8-custom-object-detection')\n"
      ],
      "metadata": {
        "id": "l76G__GqcVKb"
      },
      "execution_count": 14,
      "outputs": []
    },
    {
      "cell_type": "code",
      "source": [
        "import ultralytics\n",
        "from ultralytics import YOLO\n",
        "import sort\n",
        "from yolo_detect_and_count import YOLOv8_ObjectDetector"
      ],
      "metadata": {
        "id": "DLpHhv6zd9az"
      },
      "execution_count": 15,
      "outputs": []
    },
    {
      "cell_type": "markdown",
      "source": [
        "## Implementing object detection"
      ],
      "metadata": {
        "id": "R3zC0oeRBajX"
      }
    },
    {
      "cell_type": "code",
      "source": [
        "# preparing labels\n",
        "ppe_labels = ['Hardhat', 'Mask', 'NO-Hardhat', 'NO-Mask', 'NO-Safety Vest', 'Person', 'Safety Cone',\n",
        "              'Safety Vest', 'machinery', 'vehicle']"
      ],
      "metadata": {
        "id": "-mlWs3ySeDEr"
      },
      "execution_count": 16,
      "outputs": []
    },
    {
      "cell_type": "code",
      "source": [
        "# instanciating the object detector\n",
        "ppe_detector = YOLOv8_ObjectDetector(model_file = '/content/YOLOv8-custom-object-detection/ppe.pt',\n",
        "                                     labels = ppe_labels\n",
        "                                     )"
      ],
      "metadata": {
        "id": "Q-dEcctCfguT"
      },
      "execution_count": 17,
      "outputs": []
    },
    {
      "cell_type": "code",
      "source": [
        "# running inference on a sample image \n",
        "r = ppe_detector.predict_img(cv2.imread('/content/YOLOv8-custom-object-detection/test imgs/ppe test equipement.PNG'))"
      ],
      "metadata": {
        "colab": {
          "base_uri": "https://localhost:8080/"
        },
        "id": "7JwxStr2h1uy",
        "outputId": "35125d55-643f-4b48-ccb2-a51d9f5c47e4"
      },
      "execution_count": 18,
      "outputs": [
        {
          "output_type": "stream",
          "name": "stderr",
          "text": [
            "\n",
            "0: 384x640 2 Hardhats, 2 NO-Masks, 1 NO-Safety Vest, 2 Persons, 1 Safety Vest, 1974.4ms\n",
            "Speed: 1.0ms preprocess, 1974.4ms inference, 2.4ms postprocess per image at shape (1, 3, 640, 640)\n"
          ]
        }
      ]
    },
    {
      "cell_type": "code",
      "source": [
        "# creating a ist of random colors for custom display\n",
        "import random\n",
        "colors = []\n",
        "for _ in range(80):\n",
        "    rand_tuple = (random.randint(50, 255), random.randint(50, 255), random.randint(50, 255))\n",
        "    colors.append(rand_tuple)\n"
      ],
      "metadata": {
        "id": "SB9ct2tSq37M"
      },
      "execution_count": 19,
      "outputs": []
    },
    {
      "cell_type": "code",
      "source": [
        "# saving results with YOLOv8 default display\n",
        "img = ppe_detector.default_display()\n",
        "cv2.imwrite('default-PPE-result.png', img)\n",
        "\n",
        "# saving results with YOLOv8 custom display\n",
        "img = ppe_detector.custom_display(colors = colors)\n",
        "cv2.imwrite('custom-PPE-result.png', img)\n",
        "\n"
      ],
      "metadata": {
        "colab": {
          "base_uri": "https://localhost:8080/"
        },
        "id": "kgx3GA8CjDBO",
        "outputId": "6b636250-e732-4a65-9fb4-52abe0fb46a2"
      },
      "execution_count": 21,
      "outputs": [
        {
          "output_type": "execute_result",
          "data": {
            "text/plain": [
              "True"
            ]
          },
          "metadata": {},
          "execution_count": 21
        }
      ]
    }
  ]
}